{
 "cells": [
  {
   "cell_type": "markdown",
   "id": "fd43b9ca-f5c6-42a0-a71a-a8fea92e613c",
   "metadata": {},
   "source": [
    "# SENTIMENT ANALYSIS(Employee Feedback)"
   ]
  },
  {
   "cell_type": "markdown",
   "id": "1126eb1b-4423-47ff-b7a4-9059289da74b",
   "metadata": {},
   "source": [
    "### First Step(Step One)\n",
    "\n",
    "I will go for Data Collection process where I will gather textual data from tweets or reviews"
   ]
  },
  {
   "cell_type": "markdown",
   "id": "4c1a3234-1c48-4f8f-a14c-29e4bbf3c1f8",
   "metadata": {},
   "source": [
    "## Second Step (Step Two): Text Preprocessing (Here I'm going to clean and prepare data for analysis)\n",
    "\n",
    "##### Tokenization\n",
    "Tokenization is the first step in text preprocessing where I'm going to break down the feedback text into smaller chunks called tokens.This means in a feeback of an employee each sentence will be tokenized into words for further analysis\n",
    "\n",
    "##### Removing Stop Words\n",
    "This process it's where i'm will be going for remove all words that does not contain an important meaning to the sentence. Those words examples are \"and\", \"the\", \"is\".\n",
    "\n",
    "###### Lowercasing\n",
    "\n",
    "After removing all stop words from my data I proceed to Lowecasing which is the process of converting all words into Lowercases for example Positive or POSITIVE will be conveted to positive.\n",
    "\n",
    "##### Stemming/Lemmatization\n",
    "\n",
    "In this process I'm going to reduce words to their root for which will help to standardize and reduce complexity.The example of this process  for a word such as looking will be look."
   ]
  },
  {
   "cell_type": "markdown",
   "id": "94d33ea2-4dfc-4d6d-88fa-24177320ffba",
   "metadata": {},
   "source": [
    "### Third Step (Step Three): Feature Extraction ( Here I will be converting textual data into numerical format )\n",
    "\n",
    "##### Bag of Words (BoW)\n",
    "Bag of Words Is the method where I will be converting text into a matrix where each word in the feedback will represent a feature.This will ensure that the occurance of each word forms the feature vector.\n",
    "\n",
    "##### TF-IDF(Term Frequency- Inverse Document Frequency)\n",
    "The above technique is an advanced version of BoW that reduces the importance of common words and highlight the importance of less frequent but meaningful words in a document. This will help to enhance the precision of the sentiment analysis."
   ]
  },
  {
   "cell_type": "markdown",
   "id": "af48df5c-1e73-4ee8-a0aa-1545ba5973c5",
   "metadata": {},
   "source": [
    "### Fourth Step (Step Four): Modeling( Here it's where I'm going to apply machine learning Algorithms)\n",
    "\n",
    "In this step I will apply machine learning classification algorithms for sentiment analysis.\n",
    "This will depend on the data I'm dealing with on that time to decide about the type o algorithm to use.However the most popular algorithms for sentiment analysis are:\n",
    "\n",
    "##### Naive Bayes, Logistic regression, Support Vector Machine(SVM)"
   ]
  },
  {
   "cell_type": "markdown",
   "id": "507f1196-5401-47a2-b4a7-d840789aebd3",
   "metadata": {},
   "source": [
    "### Fifth Step( Step Five): Model Evaluation\n",
    "\n",
    "In this step I'm going to use performance metrics such as accuracy score,precision score, recall and F1 score.In this step I'm not limited to a certain metric to use but it will depend on which one I prefer to use.However, the goal here is to check how best my model performs.In this step my model accuracy score should range between 0 and 1 since cause this is the classification model and if i'm not yet satisfied about my model perormance I will fine tune it for better performance."
   ]
  },
  {
   "cell_type": "code",
   "execution_count": null,
   "id": "84da2525-9288-4073-a32e-c9ea1787144e",
   "metadata": {},
   "outputs": [],
   "source": []
  }
 ],
 "metadata": {
  "kernelspec": {
   "display_name": "Python 3 (ipykernel)",
   "language": "python",
   "name": "python3"
  },
  "language_info": {
   "codemirror_mode": {
    "name": "ipython",
    "version": 3
   },
   "file_extension": ".py",
   "mimetype": "text/x-python",
   "name": "python",
   "nbconvert_exporter": "python",
   "pygments_lexer": "ipython3",
   "version": "3.12.2"
  }
 },
 "nbformat": 4,
 "nbformat_minor": 5
}
